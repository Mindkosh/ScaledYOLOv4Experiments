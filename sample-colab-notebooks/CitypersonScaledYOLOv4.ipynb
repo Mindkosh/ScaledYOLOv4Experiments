{
  "nbformat": 4,
  "nbformat_minor": 0,
  "metadata": {
    "accelerator": "GPU",
    "colab": {
      "name": "CitypersonScaledYOLOv4.ipynb",
      "provenance": [],
      "collapsed_sections": []
    },
    "kernelspec": {
      "display_name": "Python 3",
      "name": "python3"
    },
    "language_info": {
      "name": "python"
    }
  },
  "cells": [
    {
      "cell_type": "markdown",
      "metadata": {
        "id": "Rt8nGjLqPCW_"
      },
      "source": [
        "> Scaled Yolo v4: Inference and Evaluation\n"
      ]
    },
    {
      "cell_type": "code",
      "metadata": {
        "colab": {
          "base_uri": "https://localhost:8080/"
        },
        "id": "LIHlAywAO9z4",
        "outputId": "39c7c926-efdd-4a2b-8b70-9f45c8b93e39"
      },
      "source": [
        "# clone Scaled_YOLOv4\n",
        "!git clone https://github.com/swaingotnochill/ScaledYOLOv4.git # clone repo\n",
        "%cd /content/ScaledYOLOv4/\n",
        "#checkout the yolov4-large branch\n",
        "!git checkout yolov4-large"
      ],
      "execution_count": 3,
      "outputs": [
        {
          "output_type": "stream",
          "text": [
            "Cloning into 'ScaledYOLOv4'...\n",
            "remote: Enumerating objects: 138, done.\u001b[K\n",
            "remote: Counting objects: 100% (4/4), done.\u001b[K\n",
            "remote: Compressing objects: 100% (4/4), done.\u001b[K\n",
            "remote: Total 138 (delta 0), reused 2 (delta 0), pack-reused 134\u001b[K\n",
            "Receiving objects: 100% (138/138), 345.95 KiB | 4.27 MiB/s, done.\n",
            "Resolving deltas: 100% (59/59), done.\n",
            "/content/ScaledYOLOv4\n",
            "Already on 'yolov4-large'\n",
            "Your branch is up to date with 'origin/yolov4-large'.\n"
          ],
          "name": "stdout"
        }
      ]
    },
    {
      "cell_type": "code",
      "metadata": {
        "colab": {
          "base_uri": "https://localhost:8080/"
        },
        "id": "FHgelMIVQ25D",
        "outputId": "5e22d441-f4fb-4362-af95-c3b7d48980ca"
      },
      "source": [
        "import torch\n",
        "print('Using torch %s %s' % (torch.__version__, torch.cuda.get_device_properties(0) if torch.cuda.is_available() else 'CPU'))"
      ],
      "execution_count": 4,
      "outputs": [
        {
          "output_type": "stream",
          "text": [
            "Using torch 1.8.1+cu101 _CudaDeviceProperties(name='Tesla K80', major=3, minor=7, total_memory=11441MB, multi_processor_count=13)\n"
          ],
          "name": "stdout"
        }
      ]
    },
    {
      "cell_type": "code",
      "metadata": {
        "colab": {
          "base_uri": "https://localhost:8080/"
        },
        "id": "Xme35PnjRebv",
        "outputId": "b68e8186-848e-49f6-c7c4-ec6d3748337b"
      },
      "source": [
        "#install mish activation funciton for cuda\n",
        "%cd /content/\n",
        "!git clone https://github.com/JunnYu/mish-cuda\n",
        "%cd mish-cuda\n",
        "!python setup.py build install"
      ],
      "execution_count": 5,
      "outputs": [
        {
          "output_type": "stream",
          "text": [
            "/content\n",
            "Cloning into 'mish-cuda'...\n",
            "remote: Enumerating objects: 195, done.\u001b[K\n",
            "remote: Counting objects: 100% (88/88), done.\u001b[K\n",
            "remote: Compressing objects: 100% (75/75), done.\u001b[K\n",
            "remote: Total 195 (delta 7), reused 79 (delta 3), pack-reused 107\u001b[K\n",
            "Receiving objects: 100% (195/195), 208.77 KiB | 9.08 MiB/s, done.\n",
            "Resolving deltas: 100% (56/56), done.\n",
            "/content/mish-cuda\n",
            "/usr/lib/python3.7/distutils/extension.py:131: UserWarning: Unknown Extension options: 'headers'\n",
            "  warnings.warn(msg)\n",
            "running build\n",
            "running build_py\n",
            "creating build\n",
            "creating build/lib.linux-x86_64-3.7\n",
            "creating build/lib.linux-x86_64-3.7/mish_cuda\n",
            "copying src/mish_cuda/__init__.py -> build/lib.linux-x86_64-3.7/mish_cuda\n",
            "running egg_info\n",
            "creating src/mish_cuda.egg-info\n",
            "writing src/mish_cuda.egg-info/PKG-INFO\n",
            "writing dependency_links to src/mish_cuda.egg-info/dependency_links.txt\n",
            "writing requirements to src/mish_cuda.egg-info/requires.txt\n",
            "writing top-level names to src/mish_cuda.egg-info/top_level.txt\n",
            "writing manifest file 'src/mish_cuda.egg-info/SOURCES.txt'\n",
            "/usr/local/lib/python3.7/dist-packages/torch/utils/cpp_extension.py:369: UserWarning: Attempted to use ninja as the BuildExtension backend but we could not find ninja.. Falling back to using the slow distutils backend.\n",
            "  warnings.warn(msg.format('we could not find ninja.'))\n",
            "adding license file 'LICENSE' (matched pattern 'LICEN[CS]E*')\n",
            "writing manifest file 'src/mish_cuda.egg-info/SOURCES.txt'\n",
            "running build_ext\n",
            "building 'mish_cuda._C' extension\n",
            "creating build/temp.linux-x86_64-3.7\n",
            "creating build/temp.linux-x86_64-3.7/csrc\n",
            "creating build/temp.linux-x86_64-3.7/csrc/cpu\n",
            "creating build/temp.linux-x86_64-3.7/csrc/cuda\n",
            "x86_64-linux-gnu-gcc -pthread -Wno-unused-result -Wsign-compare -DNDEBUG -g -fwrapv -O2 -Wall -g -fdebug-prefix-map=/build/python3.7-OGiuun/python3.7-3.7.10=. -fstack-protector-strong -Wformat -Werror=format-security -g -fdebug-prefix-map=/build/python3.7-OGiuun/python3.7-3.7.10=. -fstack-protector-strong -Wformat -Werror=format-security -Wdate-time -D_FORTIFY_SOURCE=2 -fPIC -I/usr/local/lib/python3.7/dist-packages/torch/include -I/usr/local/lib/python3.7/dist-packages/torch/include/torch/csrc/api/include -I/usr/local/lib/python3.7/dist-packages/torch/include/TH -I/usr/local/lib/python3.7/dist-packages/torch/include/THC -I/usr/local/cuda/include -I/usr/include/python3.7m -c csrc/cpu/mish_cpu.cpp -o build/temp.linux-x86_64-3.7/csrc/cpu/mish_cpu.o -DTORCH_API_INCLUDE_EXTENSION_H -DPYBIND11_COMPILER_TYPE=\"_gcc\" -DPYBIND11_STDLIB=\"_libstdcpp\" -DPYBIND11_BUILD_ABI=\"_cxxabi1011\" -DTORCH_EXTENSION_NAME=_C -D_GLIBCXX_USE_CXX11_ABI=0 -std=c++14\n",
            "In file included from \u001b[01m\u001b[K/usr/local/lib/python3.7/dist-packages/torch/include/ATen/Parallel.h:140:0\u001b[m\u001b[K,\n",
            "                 from \u001b[01m\u001b[K/usr/local/lib/python3.7/dist-packages/torch/include/ATen/CPUApplyUtils.h:3\u001b[m\u001b[K,\n",
            "                 from \u001b[01m\u001b[Kcsrc/cpu/mish_cpu.cpp:3\u001b[m\u001b[K:\n",
            "\u001b[01m\u001b[K/usr/local/lib/python3.7/dist-packages/torch/include/ATen/ParallelOpenMP.h:83:0:\u001b[m\u001b[K \u001b[01;35m\u001b[Kwarning: \u001b[m\u001b[Kignoring #pragma omp parallel [\u001b[01;35m\u001b[K-Wunknown-pragmas\u001b[m\u001b[K]\n",
            " #pragma omp parallel for if ((end - begin) >= grain_size)\n",
            " \n",
            "x86_64-linux-gnu-gcc -pthread -Wno-unused-result -Wsign-compare -DNDEBUG -g -fwrapv -O2 -Wall -g -fdebug-prefix-map=/build/python3.7-OGiuun/python3.7-3.7.10=. -fstack-protector-strong -Wformat -Werror=format-security -g -fdebug-prefix-map=/build/python3.7-OGiuun/python3.7-3.7.10=. -fstack-protector-strong -Wformat -Werror=format-security -Wdate-time -D_FORTIFY_SOURCE=2 -fPIC -I/usr/local/lib/python3.7/dist-packages/torch/include -I/usr/local/lib/python3.7/dist-packages/torch/include/torch/csrc/api/include -I/usr/local/lib/python3.7/dist-packages/torch/include/TH -I/usr/local/lib/python3.7/dist-packages/torch/include/THC -I/usr/local/cuda/include -I/usr/include/python3.7m -c csrc/cuda/mish_cuda.cpp -o build/temp.linux-x86_64-3.7/csrc/cuda/mish_cuda.o -DTORCH_API_INCLUDE_EXTENSION_H -DPYBIND11_COMPILER_TYPE=\"_gcc\" -DPYBIND11_STDLIB=\"_libstdcpp\" -DPYBIND11_BUILD_ABI=\"_cxxabi1011\" -DTORCH_EXTENSION_NAME=_C -D_GLIBCXX_USE_CXX11_ABI=0 -std=c++14\n",
            "In file included from \u001b[01m\u001b[K/usr/local/lib/python3.7/dist-packages/torch/include/ATen/Parallel.h:140:0\u001b[m\u001b[K,\n",
            "                 from \u001b[01m\u001b[K/usr/local/lib/python3.7/dist-packages/torch/include/torch/csrc/api/include/torch/utils.h:3\u001b[m\u001b[K,\n",
            "                 from \u001b[01m\u001b[K/usr/local/lib/python3.7/dist-packages/torch/include/torch/csrc/api/include/torch/nn/cloneable.h:5\u001b[m\u001b[K,\n",
            "                 from \u001b[01m\u001b[K/usr/local/lib/python3.7/dist-packages/torch/include/torch/csrc/api/include/torch/nn.h:3\u001b[m\u001b[K,\n",
            "                 from \u001b[01m\u001b[K/usr/local/lib/python3.7/dist-packages/torch/include/torch/csrc/api/include/torch/all.h:13\u001b[m\u001b[K,\n",
            "                 from \u001b[01m\u001b[K/usr/local/lib/python3.7/dist-packages/torch/include/torch/extension.h:4\u001b[m\u001b[K,\n",
            "                 from \u001b[01m\u001b[Kcsrc/cuda/mish_cuda.cpp:2\u001b[m\u001b[K:\n",
            "\u001b[01m\u001b[K/usr/local/lib/python3.7/dist-packages/torch/include/ATen/ParallelOpenMP.h:83:0:\u001b[m\u001b[K \u001b[01;35m\u001b[Kwarning: \u001b[m\u001b[Kignoring #pragma omp parallel [\u001b[01;35m\u001b[K-Wunknown-pragmas\u001b[m\u001b[K]\n",
            " #pragma omp parallel for if ((end - begin) >= grain_size)\n",
            " \n",
            "/usr/local/cuda/bin/nvcc -I/usr/local/lib/python3.7/dist-packages/torch/include -I/usr/local/lib/python3.7/dist-packages/torch/include/torch/csrc/api/include -I/usr/local/lib/python3.7/dist-packages/torch/include/TH -I/usr/local/lib/python3.7/dist-packages/torch/include/THC -I/usr/local/cuda/include -I/usr/include/python3.7m -c csrc/cuda/mish_kernel.cu -o build/temp.linux-x86_64-3.7/csrc/cuda/mish_kernel.o -D__CUDA_NO_HALF_OPERATORS__ -D__CUDA_NO_HALF_CONVERSIONS__ -D__CUDA_NO_BFLOAT16_CONVERSIONS__ -D__CUDA_NO_HALF2_OPERATORS__ --expt-relaxed-constexpr --compiler-options '-fPIC' --expt-extended-lambda -DTORCH_API_INCLUDE_EXTENSION_H -DPYBIND11_COMPILER_TYPE=\"_gcc\" -DPYBIND11_STDLIB=\"_libstdcpp\" -DPYBIND11_BUILD_ABI=\"_cxxabi1011\" -DTORCH_EXTENSION_NAME=_C -D_GLIBCXX_USE_CXX11_ABI=0 -gencode=arch=compute_37,code=compute_37 -gencode=arch=compute_37,code=sm_37 -std=c++14\n",
            "nvcc warning : The 'compute_35', 'compute_37', 'compute_50', 'sm_35', 'sm_37' and 'sm_50' architectures are deprecated, and may be removed in a future release (Use -Wno-deprecated-gpu-targets to suppress warning).\n",
            "x86_64-linux-gnu-g++ -pthread -shared -Wl,-O1 -Wl,-Bsymbolic-functions -Wl,-Bsymbolic-functions -Wl,-z,relro -Wl,-Bsymbolic-functions -Wl,-z,relro -g -fdebug-prefix-map=/build/python3.7-OGiuun/python3.7-3.7.10=. -fstack-protector-strong -Wformat -Werror=format-security -Wdate-time -D_FORTIFY_SOURCE=2 build/temp.linux-x86_64-3.7/csrc/cpu/mish_cpu.o build/temp.linux-x86_64-3.7/csrc/cuda/mish_cuda.o build/temp.linux-x86_64-3.7/csrc/cuda/mish_kernel.o -L/usr/local/lib/python3.7/dist-packages/torch/lib -L/usr/local/cuda/lib64 -lc10 -ltorch -ltorch_cpu -ltorch_python -lcudart -lc10_cuda -ltorch_cuda -o build/lib.linux-x86_64-3.7/mish_cuda/_C.cpython-37m-x86_64-linux-gnu.so\n",
            "running install\n",
            "running bdist_egg\n",
            "installing library code to build/bdist.linux-x86_64/egg\n",
            "running install_lib\n",
            "creating build/bdist.linux-x86_64\n",
            "creating build/bdist.linux-x86_64/egg\n",
            "creating build/bdist.linux-x86_64/egg/mish_cuda\n",
            "copying build/lib.linux-x86_64-3.7/mish_cuda/_C.cpython-37m-x86_64-linux-gnu.so -> build/bdist.linux-x86_64/egg/mish_cuda\n",
            "copying build/lib.linux-x86_64-3.7/mish_cuda/__init__.py -> build/bdist.linux-x86_64/egg/mish_cuda\n",
            "byte-compiling build/bdist.linux-x86_64/egg/mish_cuda/__init__.py to __init__.cpython-37.pyc\n",
            "creating stub loader for mish_cuda/_C.cpython-37m-x86_64-linux-gnu.so\n",
            "byte-compiling build/bdist.linux-x86_64/egg/mish_cuda/_C.py to _C.cpython-37.pyc\n",
            "creating build/bdist.linux-x86_64/egg/EGG-INFO\n",
            "copying src/mish_cuda.egg-info/PKG-INFO -> build/bdist.linux-x86_64/egg/EGG-INFO\n",
            "copying src/mish_cuda.egg-info/SOURCES.txt -> build/bdist.linux-x86_64/egg/EGG-INFO\n",
            "copying src/mish_cuda.egg-info/dependency_links.txt -> build/bdist.linux-x86_64/egg/EGG-INFO\n",
            "copying src/mish_cuda.egg-info/not-zip-safe -> build/bdist.linux-x86_64/egg/EGG-INFO\n",
            "copying src/mish_cuda.egg-info/requires.txt -> build/bdist.linux-x86_64/egg/EGG-INFO\n",
            "copying src/mish_cuda.egg-info/top_level.txt -> build/bdist.linux-x86_64/egg/EGG-INFO\n",
            "writing build/bdist.linux-x86_64/egg/EGG-INFO/native_libs.txt\n",
            "creating dist\n",
            "creating 'dist/mish_cuda-0.0.3-py3.7-linux-x86_64.egg' and adding 'build/bdist.linux-x86_64/egg' to it\n",
            "removing 'build/bdist.linux-x86_64/egg' (and everything under it)\n",
            "Processing mish_cuda-0.0.3-py3.7-linux-x86_64.egg\n",
            "creating /usr/local/lib/python3.7/dist-packages/mish_cuda-0.0.3-py3.7-linux-x86_64.egg\n",
            "Extracting mish_cuda-0.0.3-py3.7-linux-x86_64.egg to /usr/local/lib/python3.7/dist-packages\n",
            "Adding mish-cuda 0.0.3 to easy-install.pth file\n",
            "\n",
            "Installed /usr/local/lib/python3.7/dist-packages/mish_cuda-0.0.3-py3.7-linux-x86_64.egg\n",
            "Processing dependencies for mish-cuda==0.0.3\n",
            "Searching for torch==1.8.1+cu101\n",
            "Best match: torch 1.8.1+cu101\n",
            "Adding torch 1.8.1+cu101 to easy-install.pth file\n",
            "Installing convert-caffe2-to-onnx script to /usr/local/bin\n",
            "Installing convert-onnx-to-caffe2 script to /usr/local/bin\n",
            "\n",
            "Using /usr/local/lib/python3.7/dist-packages\n",
            "Searching for numpy==1.19.5\n",
            "Best match: numpy 1.19.5\n",
            "Adding numpy 1.19.5 to easy-install.pth file\n",
            "Installing f2py script to /usr/local/bin\n",
            "Installing f2py3 script to /usr/local/bin\n",
            "Installing f2py3.7 script to /usr/local/bin\n",
            "\n",
            "Using /usr/local/lib/python3.7/dist-packages\n",
            "Searching for typing-extensions==3.7.4.3\n",
            "Best match: typing-extensions 3.7.4.3\n",
            "Adding typing-extensions 3.7.4.3 to easy-install.pth file\n",
            "\n",
            "Using /usr/local/lib/python3.7/dist-packages\n",
            "Finished processing dependencies for mish-cuda==0.0.3\n"
          ],
          "name": "stdout"
        }
      ]
    },
    {
      "cell_type": "code",
      "metadata": {
        "colab": {
          "base_uri": "https://localhost:8080/"
        },
        "id": "_FgwjnhSRi8h",
        "outputId": "e4e0b946-d543-4dfd-f14f-d7059fe7833b"
      },
      "source": [
        "#path to ScaledYOLOv4 Directory\n",
        "%cd /content/ScaledYOLOv4"
      ],
      "execution_count": 8,
      "outputs": [
        {
          "output_type": "stream",
          "text": [
            "/content/ScaledYOLOv4\n"
          ],
          "name": "stdout"
        }
      ]
    },
    {
      "cell_type": "code",
      "metadata": {
        "colab": {
          "base_uri": "https://localhost:8080/"
        },
        "id": "AYEZlD-PIM4g",
        "outputId": "4f3b74a3-451e-4331-d7b7-50ff66caeac3"
      },
      "source": [
        "%mkdir weights \n",
        "%cd weights"
      ],
      "execution_count": 9,
      "outputs": [
        {
          "output_type": "stream",
          "text": [
            "/content/ScaledYOLOv4/weights\n"
          ],
          "name": "stdout"
        }
      ]
    },
    {
      "cell_type": "code",
      "metadata": {
        "colab": {
          "base_uri": "https://localhost:8080/"
        },
        "id": "yW956gODHJzu",
        "outputId": "f9956800-15df-4b0e-ce47-053f6c195cd9"
      },
      "source": [
        "!gdown --id 1aXZZE999sHMP1gev60XhNChtHPRMH3Fz #yolov4-p5.pt\n",
        "!gdown --id 15CL05ZufFk2krbRS993fqlG40Wb0HTyr #yolov4-p5_.pt\n",
        "!gdown --id 1aB7May8oPYzBqbgwYSZHuATPXyxh9xnf #yolov4-p6.pt\n",
        "!gdown --id 1Q8oG3lBVVoS0-UwNOBsDsPkq9VKs9UcC #yolov4-p6_.pt\n",
        "!gdown --id 18fGlzgEJTkUEiBG4hW00pyedJKNnYLP3 #yolov4-p7.pt"
      ],
      "execution_count": 10,
      "outputs": [
        {
          "output_type": "stream",
          "text": [
            "Downloading...\n",
            "From: https://drive.google.com/uc?id=1aXZZE999sHMP1gev60XhNChtHPRMH3Fz\n",
            "To: /content/ScaledYOLOv4/weights/yolov4-p5.pt\n",
            "142MB [00:02, 52.2MB/s]\n",
            "Downloading...\n",
            "From: https://drive.google.com/uc?id=15CL05ZufFk2krbRS993fqlG40Wb0HTyr\n",
            "To: /content/ScaledYOLOv4/weights/yolov4-p5_.pt\n",
            "142MB [00:02, 62.6MB/s]\n",
            "Downloading...\n",
            "From: https://drive.google.com/uc?id=1aB7May8oPYzBqbgwYSZHuATPXyxh9xnf\n",
            "To: /content/ScaledYOLOv4/weights/yolov4-p6.pt\n",
            "256MB [00:04, 63.5MB/s]\n",
            "Downloading...\n",
            "From: https://drive.google.com/uc?id=1Q8oG3lBVVoS0-UwNOBsDsPkq9VKs9UcC\n",
            "To: /content/ScaledYOLOv4/weights/yolov4-p6_.pt\n",
            "256MB [00:03, 77.0MB/s]\n",
            "Downloading...\n",
            "From: https://drive.google.com/uc?id=18fGlzgEJTkUEiBG4hW00pyedJKNnYLP3\n",
            "To: /content/ScaledYOLOv4/weights/yolov4-p7.pt\n",
            "576MB [00:07, 78.1MB/s]\n"
          ],
          "name": "stdout"
        }
      ]
    },
    {
      "cell_type": "code",
      "metadata": {
        "colab": {
          "base_uri": "https://localhost:8080/"
        },
        "id": "hlWtbEqkNSla",
        "outputId": "093bfde5-8446-45b9-bcb4-c5af41627bf2"
      },
      "source": [
        "%cd /content/ScaledYOLOv4"
      ],
      "execution_count": 11,
      "outputs": [
        {
          "output_type": "stream",
          "text": [
            "/content/ScaledYOLOv4\n"
          ],
          "name": "stdout"
        }
      ]
    },
    {
      "cell_type": "code",
      "metadata": {
        "id": "kcY3LKZXUGnc",
        "colab": {
          "base_uri": "https://localhost:8080/"
        },
        "outputId": "80e08ffe-a24d-4d59-d6c9-5a9d78680886"
      },
      "source": [
        "!pip install -U  PyYAML"
      ],
      "execution_count": 12,
      "outputs": [
        {
          "output_type": "stream",
          "text": [
            "Collecting PyYAML\n",
            "\u001b[?25l  Downloading https://files.pythonhosted.org/packages/7a/a5/393c087efdc78091afa2af9f1378762f9821c9c1d7a22c5753fb5ac5f97a/PyYAML-5.4.1-cp37-cp37m-manylinux1_x86_64.whl (636kB)\n",
            "\r\u001b[K     |▌                               | 10kB 17.1MB/s eta 0:00:01\r\u001b[K     |█                               | 20kB 19.4MB/s eta 0:00:01\r\u001b[K     |█▌                              | 30kB 23.5MB/s eta 0:00:01\r\u001b[K     |██                              | 40kB 23.0MB/s eta 0:00:01\r\u001b[K     |██▋                             | 51kB 12.8MB/s eta 0:00:01\r\u001b[K     |███                             | 61kB 14.5MB/s eta 0:00:01\r\u001b[K     |███▋                            | 71kB 12.4MB/s eta 0:00:01\r\u001b[K     |████▏                           | 81kB 12.2MB/s eta 0:00:01\r\u001b[K     |████▋                           | 92kB 13.0MB/s eta 0:00:01\r\u001b[K     |█████▏                          | 102kB 9.8MB/s eta 0:00:01\r\u001b[K     |█████▋                          | 112kB 9.8MB/s eta 0:00:01\r\u001b[K     |██████▏                         | 122kB 9.8MB/s eta 0:00:01\r\u001b[K     |██████▊                         | 133kB 9.8MB/s eta 0:00:01\r\u001b[K     |███████▏                        | 143kB 9.8MB/s eta 0:00:01\r\u001b[K     |███████▊                        | 153kB 9.8MB/s eta 0:00:01\r\u001b[K     |████████▎                       | 163kB 9.8MB/s eta 0:00:01\r\u001b[K     |████████▊                       | 174kB 9.8MB/s eta 0:00:01\r\u001b[K     |█████████▎                      | 184kB 9.8MB/s eta 0:00:01\r\u001b[K     |█████████▉                      | 194kB 9.8MB/s eta 0:00:01\r\u001b[K     |██████████▎                     | 204kB 9.8MB/s eta 0:00:01\r\u001b[K     |██████████▉                     | 215kB 9.8MB/s eta 0:00:01\r\u001b[K     |███████████▎                    | 225kB 9.8MB/s eta 0:00:01\r\u001b[K     |███████████▉                    | 235kB 9.8MB/s eta 0:00:01\r\u001b[K     |████████████▍                   | 245kB 9.8MB/s eta 0:00:01\r\u001b[K     |████████████▉                   | 256kB 9.8MB/s eta 0:00:01\r\u001b[K     |█████████████▍                  | 266kB 9.8MB/s eta 0:00:01\r\u001b[K     |██████████████                  | 276kB 9.8MB/s eta 0:00:01\r\u001b[K     |██████████████▍                 | 286kB 9.8MB/s eta 0:00:01\r\u001b[K     |███████████████                 | 296kB 9.8MB/s eta 0:00:01\r\u001b[K     |███████████████▍                | 307kB 9.8MB/s eta 0:00:01\r\u001b[K     |████████████████                | 317kB 9.8MB/s eta 0:00:01\r\u001b[K     |████████████████▌               | 327kB 9.8MB/s eta 0:00:01\r\u001b[K     |█████████████████               | 337kB 9.8MB/s eta 0:00:01\r\u001b[K     |█████████████████▌              | 348kB 9.8MB/s eta 0:00:01\r\u001b[K     |██████████████████              | 358kB 9.8MB/s eta 0:00:01\r\u001b[K     |██████████████████▌             | 368kB 9.8MB/s eta 0:00:01\r\u001b[K     |███████████████████             | 378kB 9.8MB/s eta 0:00:01\r\u001b[K     |███████████████████▋            | 389kB 9.8MB/s eta 0:00:01\r\u001b[K     |████████████████████            | 399kB 9.8MB/s eta 0:00:01\r\u001b[K     |████████████████████▋           | 409kB 9.8MB/s eta 0:00:01\r\u001b[K     |█████████████████████           | 419kB 9.8MB/s eta 0:00:01\r\u001b[K     |█████████████████████▋          | 430kB 9.8MB/s eta 0:00:01\r\u001b[K     |██████████████████████▏         | 440kB 9.8MB/s eta 0:00:01\r\u001b[K     |██████████████████████▋         | 450kB 9.8MB/s eta 0:00:01\r\u001b[K     |███████████████████████▏        | 460kB 9.8MB/s eta 0:00:01\r\u001b[K     |███████████████████████▊        | 471kB 9.8MB/s eta 0:00:01\r\u001b[K     |████████████████████████▏       | 481kB 9.8MB/s eta 0:00:01\r\u001b[K     |████████████████████████▊       | 491kB 9.8MB/s eta 0:00:01\r\u001b[K     |█████████████████████████▏      | 501kB 9.8MB/s eta 0:00:01\r\u001b[K     |█████████████████████████▊      | 512kB 9.8MB/s eta 0:00:01\r\u001b[K     |██████████████████████████▎     | 522kB 9.8MB/s eta 0:00:01\r\u001b[K     |██████████████████████████▊     | 532kB 9.8MB/s eta 0:00:01\r\u001b[K     |███████████████████████████▎    | 542kB 9.8MB/s eta 0:00:01\r\u001b[K     |███████████████████████████▉    | 552kB 9.8MB/s eta 0:00:01\r\u001b[K     |████████████████████████████▎   | 563kB 9.8MB/s eta 0:00:01\r\u001b[K     |████████████████████████████▉   | 573kB 9.8MB/s eta 0:00:01\r\u001b[K     |█████████████████████████████▍  | 583kB 9.8MB/s eta 0:00:01\r\u001b[K     |█████████████████████████████▉  | 593kB 9.8MB/s eta 0:00:01\r\u001b[K     |██████████████████████████████▍ | 604kB 9.8MB/s eta 0:00:01\r\u001b[K     |██████████████████████████████▉ | 614kB 9.8MB/s eta 0:00:01\r\u001b[K     |███████████████████████████████▍| 624kB 9.8MB/s eta 0:00:01\r\u001b[K     |████████████████████████████████| 634kB 9.8MB/s eta 0:00:01\r\u001b[K     |████████████████████████████████| 645kB 9.8MB/s \n",
            "\u001b[?25hInstalling collected packages: PyYAML\n",
            "  Found existing installation: PyYAML 3.13\n",
            "    Uninstalling PyYAML-3.13:\n",
            "      Successfully uninstalled PyYAML-3.13\n",
            "Successfully installed PyYAML-5.4.1\n"
          ],
          "name": "stdout"
        }
      ]
    },
    {
      "cell_type": "markdown",
      "metadata": {
        "id": "9byTg-prAAGg"
      },
      "source": [
        "Custom Testing on CityPerson"
      ]
    },
    {
      "cell_type": "code",
      "metadata": {
        "colab": {
          "base_uri": "https://localhost:8080/"
        },
        "id": "P_hHnQDXEWq1",
        "outputId": "9c3e6824-5781-4dbe-bab0-42f41faa2d8b"
      },
      "source": [
        "%cd /content/"
      ],
      "execution_count": 13,
      "outputs": [
        {
          "output_type": "stream",
          "text": [
            "/content\n"
          ],
          "name": "stdout"
        }
      ]
    },
    {
      "cell_type": "code",
      "metadata": {
        "colab": {
          "base_uri": "https://localhost:8080/"
        },
        "id": "RrkVoot7fp53",
        "outputId": "2279c34f-b207-4e7d-a0cf-3e7d28dd9261"
      },
      "source": [
        "!pip install opendatasets"
      ],
      "execution_count": 14,
      "outputs": [
        {
          "output_type": "stream",
          "text": [
            "Collecting opendatasets\n",
            "  Downloading https://files.pythonhosted.org/packages/18/99/aaa3ebec81dc347302e730e0daff61735ed2f3e736129553fb3f9bf67ed3/opendatasets-0.1.10-py3-none-any.whl\n",
            "Requirement already satisfied: click in /usr/local/lib/python3.7/dist-packages (from opendatasets) (7.1.2)\n",
            "Requirement already satisfied: kaggle in /usr/local/lib/python3.7/dist-packages (from opendatasets) (1.5.12)\n",
            "Requirement already satisfied: tqdm in /usr/local/lib/python3.7/dist-packages (from opendatasets) (4.41.1)\n",
            "Requirement already satisfied: python-slugify in /usr/local/lib/python3.7/dist-packages (from kaggle->opendatasets) (4.0.1)\n",
            "Requirement already satisfied: six>=1.10 in /usr/local/lib/python3.7/dist-packages (from kaggle->opendatasets) (1.15.0)\n",
            "Requirement already satisfied: python-dateutil in /usr/local/lib/python3.7/dist-packages (from kaggle->opendatasets) (2.8.1)\n",
            "Requirement already satisfied: urllib3 in /usr/local/lib/python3.7/dist-packages (from kaggle->opendatasets) (1.24.3)\n",
            "Requirement already satisfied: requests in /usr/local/lib/python3.7/dist-packages (from kaggle->opendatasets) (2.23.0)\n",
            "Requirement already satisfied: certifi in /usr/local/lib/python3.7/dist-packages (from kaggle->opendatasets) (2020.12.5)\n",
            "Requirement already satisfied: text-unidecode>=1.3 in /usr/local/lib/python3.7/dist-packages (from python-slugify->kaggle->opendatasets) (1.3)\n",
            "Requirement already satisfied: idna<3,>=2.5 in /usr/local/lib/python3.7/dist-packages (from requests->kaggle->opendatasets) (2.10)\n",
            "Requirement already satisfied: chardet<4,>=3.0.2 in /usr/local/lib/python3.7/dist-packages (from requests->kaggle->opendatasets) (3.0.4)\n",
            "Installing collected packages: opendatasets\n",
            "Successfully installed opendatasets-0.1.10\n"
          ],
          "name": "stdout"
        }
      ]
    },
    {
      "cell_type": "code",
      "metadata": {
        "colab": {
          "base_uri": "https://localhost:8080/"
        },
        "id": "A6o3UDN7f5SQ",
        "outputId": "a97c2ea9-4e9b-4a49-ec15-10b9bb21c5d7"
      },
      "source": [
        "import opendatasets as od\n",
        "download_url = 'https://www.kaggle.com/meviole/cityperson-validation'\n",
        "od.download(download_url, '/content/')"
      ],
      "execution_count": 15,
      "outputs": [
        {
          "output_type": "stream",
          "text": [
            "Please provide your Kaggle credentials to download this dataset. Learn more: http://bit.ly/kaggle-creds\n",
            "Your Kaggle username: meviole\n",
            "Your Kaggle Key: ··········\n"
          ],
          "name": "stdout"
        },
        {
          "output_type": "stream",
          "text": [
            "\r  0%|          | 0.00/1.10G [00:00<?, ?B/s]"
          ],
          "name": "stderr"
        },
        {
          "output_type": "stream",
          "text": [
            "Downloading cityperson-validation.zip to /content/cityperson-validation\n"
          ],
          "name": "stdout"
        },
        {
          "output_type": "stream",
          "text": [
            "100%|██████████| 1.10G/1.10G [00:21<00:00, 53.9MB/s]\n"
          ],
          "name": "stderr"
        },
        {
          "output_type": "stream",
          "text": [
            "\n"
          ],
          "name": "stdout"
        }
      ]
    },
    {
      "cell_type": "code",
      "metadata": {
        "id": "JTu166h-FF3k",
        "colab": {
          "base_uri": "https://localhost:8080/"
        },
        "outputId": "e0caf069-a50e-4704-ba17-0864e2251b76"
      },
      "source": [
        "%cd /content/ScaledYOLOv4/data/"
      ],
      "execution_count": 16,
      "outputs": [
        {
          "output_type": "stream",
          "text": [
            "/content/ScaledYOLOv4/data\n"
          ],
          "name": "stdout"
        }
      ]
    },
    {
      "cell_type": "code",
      "metadata": {
        "id": "0Map9uICFQfI"
      },
      "source": [
        "!touch customdata.yaml\n"
      ],
      "execution_count": 17,
      "outputs": []
    },
    {
      "cell_type": "code",
      "metadata": {
        "colab": {
          "base_uri": "https://localhost:8080/"
        },
        "id": "aeAfD13AF1jN",
        "outputId": "a987612b-d39b-40c2-bfdd-b83a9a5a2278"
      },
      "source": [
        "%cd /content/ScaledYOLOv4/data/"
      ],
      "execution_count": 18,
      "outputs": [
        {
          "output_type": "stream",
          "text": [
            "/content/ScaledYOLOv4/data\n"
          ],
          "name": "stdout"
        }
      ]
    },
    {
      "cell_type": "code",
      "metadata": {
        "colab": {
          "base_uri": "https://localhost:8080/"
        },
        "id": "s6F0MyPTg11j",
        "outputId": "53afe6ef-7889-4450-91e7-89c7777f43a4"
      },
      "source": [
        "%%writefile customdata.yaml\n",
        "val: ../cityperson-validation/cityperson/images/\n",
        "nc: 1\n",
        "names: ['person']"
      ],
      "execution_count": 19,
      "outputs": [
        {
          "output_type": "stream",
          "text": [
            "Overwriting customdata.yaml\n"
          ],
          "name": "stdout"
        }
      ]
    },
    {
      "cell_type": "code",
      "metadata": {
        "colab": {
          "base_uri": "https://localhost:8080/"
        },
        "id": "gEiYiY5uhQkn",
        "outputId": "33673b8a-de93-4c0b-9447-0c69c6c47bc5"
      },
      "source": [
        "%cd /content/ScaledYOLOv4/"
      ],
      "execution_count": 20,
      "outputs": [
        {
          "output_type": "stream",
          "text": [
            "/content/ScaledYOLOv4\n"
          ],
          "name": "stdout"
        }
      ]
    },
    {
      "cell_type": "code",
      "metadata": {
        "colab": {
          "base_uri": "https://localhost:8080/"
        },
        "id": "G9Af9GsWF6bW",
        "outputId": "2afa5cbb-b302-4b05-9ec2-7f4a0e1513d6"
      },
      "source": [
        "!python test.py  --conf 0.001 --batch 9 --device 0 --data customdata.yaml --weights weights/yolov4-p7.pt --single-cls --verbose\n",
        "\n"
      ],
      "execution_count": 21,
      "outputs": [
        {
          "output_type": "stream",
          "text": [
            "Namespace(augment=False, batch_size=9, conf_thres=0.001, data='./data/customdata.yaml', device='0', img_size=640, iou_thres=0.65, merge=False, save_json=False, save_txt=False, single_cls=True, task='val', verbose=True, weights=['weights/yolov4-p7.pt'])\n",
            "Using CUDA device0 _CudaDeviceProperties(name='Tesla K80', total_memory=11441MB)\n",
            "\n",
            "Fusing layers... Model Summary: 503 layers, 2.87475e+08 parameters, 2.7862e+08 gradients\n",
            "Scanning images: 100% 500/500 [00:01<00:00, 274.28it/s]\n",
            "Scanning labels ../cityperson-validation/cityperson/labels.cache (441 found, 0 missing, 59 empty, 0 duplicate, for 500 images): 100% 500/500 [00:00<00:00, 8373.50it/s]\n",
            "               Class      Images     Targets           P           R      mAP@.5  mAP@.5:.95: 100% 56/56 [02:26<00:00,  2.61s/it]\n",
            "                 all         500    4.16e+03       0.489       0.448       0.433        0.19\n",
            "Speed: 281.6/2.9/284.5 ms inference/NMS/total per 640x640 image at batch-size 9\n"
          ],
          "name": "stdout"
        }
      ]
    },
    {
      "cell_type": "code",
      "metadata": {
        "id": "KzEStaGyGGai"
      },
      "source": [
        ""
      ],
      "execution_count": null,
      "outputs": []
    }
  ]
}